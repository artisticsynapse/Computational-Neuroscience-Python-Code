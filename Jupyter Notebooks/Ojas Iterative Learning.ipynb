{
 "cells": [
  {
   "cell_type": "markdown",
   "metadata": {},
   "source": [
    "**Problem Statement**:\n",
    "\n",
    "Assume our neuron receives as input the two dimensional data provided in \"[c10p1.pickle](https://d18ky98rnyall9.cloudfront.net/_7bfd5defa66c4d019fdb4bd6af2a62b5_c10p1.pickle?Expires=1574035200&Signature=STFsKvowaC4Gt~Po5wdiJzj0-3uTmzwoJF9S52I9jCGGBLl4yNbngHGUmKv6OeoDk7gBNjXDfF~yz7CizRKnIoAwdmKP2ZSEuj77Iz5kGJS~O0Gg6OJwLbTf7MXeSbacwoMlWI0pqR~jkaO2BIwuYMX4S7wo35hxYa5-4EgIpkI_&Key-Pair-Id=APKAJLTNE6QMUY6HBC5A)\", but with the mean of the data subtracted from each data point (the mean of all xx values should be subtracted from every x value and the mean of all yy values should be subtracted from every yy value). You should perform this zero-mean centering step and then display the points again to verify that the data cloud is now centered around (0, 0)(0,0).\n",
    "\n",
    "Implement the update rule derived in the previous question in Matlab or Octave. Let η=1, \\alpha = 1α=1, and \\Delta t = 0.01Δt=0.01. Start with a random vector as \\textbf{w}_{0}w \n",
    "0\n",
    "​\t . In each update iteration, feed in a data point \\textbf{u} = (x, y)u=(x,y) from c10p1. If you've reached the last data point in c10p1, go back to the first one and repeat.\n",
    "\n",
    "Typically, you would keep updating **w**w until the change in **w**w, given by norm (w(t+1) - w(t)), is negligibile (i.e., below an arbitrary small positive threshold), indicating that **w**w has converged. However, since you are implementing this as an online learning algorithm, you may prematurely detect convergence using this method. Instead, you may just run the algorithm for 100,000 iterations.\n",
    "\n",
    "Run your code multiple times. Which of the following describes the behavior of **w**w and why does this happen?\n",
    "\n",
    "Hint: Consider the eigenvectors of the correlation matrix of the mean-centered data. (The correlation matrix of a data matrix X, where rows indicate separate samples, is XTX/N, where NN is the number of samples. You can calculate its eigenvalues using eig().) If the data is mean-centered, the correlation matrix will be the same as the covariance matrix."
   ]
  },
  {
   "cell_type": "markdown",
   "metadata": {},
   "source": [
    "Using sample data to teach the neuron, using the Ojas iterative learning"
   ]
  },
  {
   "cell_type": "code",
   "execution_count": 22,
   "metadata": {},
   "outputs": [],
   "source": [
    "import pickle\n",
    "import numpy as np\n",
    "from numpy import linalg\n",
    "import itertools\n",
    "import matplotlib.pyplot as plt\n",
    "%matplotlib inline"
   ]
  },
  {
   "cell_type": "markdown",
   "metadata": {},
   "source": [
    "URL link to the pickled file containing 100 (x,y) 2D data points for neuron to learn. \n",
    "You can find the data at: http://www.gatsby.ucl.ac.uk/~dayan/book/exercises.html - Part III : Adaptation and Learning, under 'Representational learning'. This file is provided as part of the exercises from the Dayan and Abbott textbook recommended for the course."
   ]
  },
  {
   "cell_type": "code",
   "execution_count": 23,
   "metadata": {},
   "outputs": [],
   "source": [
    "URL = 'https://d18ky98rnyall9.cloudfront.net/_7bfd5defa66c4d019fdb4bd6af2a62b5_c10p1.pickle?Expires=1574035200&Signature=STFsKvowaC4Gt~Po5wdiJzj0-3uTmzwoJF9S52I9jCGGBLl4yNbngHGUmKv6OeoDk7gBNjXDfF~yz7CizRKnIoAwdmKP2ZSEuj77Iz5kGJS~O0Gg6OJwLbTf7MXeSbacwoMlWI0pqR~jkaO2BIwuYMX4S7wo35hxYa5-4EgIpkI_&Key-Pair-Id=APKAJLTNE6QMUY6HBC5A'"
   ]
  },
  {
   "cell_type": "code",
   "execution_count": 24,
   "metadata": {},
   "outputs": [
    {
     "data": {
      "text/plain": [
       "('c10p1.pickle', <http.client.HTTPMessage at 0x2673f509f98>)"
      ]
     },
     "execution_count": 24,
     "metadata": {},
     "output_type": "execute_result"
    }
   ],
   "source": [
    "from urllib.request import urlretrieve \n",
    "urlretrieve(URL, 'c10p1.pickle')"
   ]
  },
  {
   "cell_type": "markdown",
   "metadata": {},
   "source": [
    "Changing the path to the location (where the pickle data file is)"
   ]
  },
  {
   "cell_type": "code",
   "execution_count": 25,
   "metadata": {},
   "outputs": [],
   "source": [
    "path = 'D:\\Cogneurosci\\Online Courses\\Computational Neurosci\\week-7\\question7'\n",
    "\n",
    "#unpickling, and loading the data\n",
    "with open('c10p1.pickle', 'rb') as f:\n",
    "    data = pickle.load(f)\n",
    "    samples = data['c10p1']\n",
    "    # samples = samples + (0.6,0.9)\n",
    "    "
   ]
  },
  {
   "cell_type": "code",
   "execution_count": 26,
   "metadata": {},
   "outputs": [
    {
     "name": "stdout",
     "output_type": "stream",
     "text": [
      "[[ 1.2610673   0.08785084]\n",
      " [ 0.94870162 -0.01808508]\n",
      " [ 0.86185491  0.16224918]\n",
      " [ 0.95081336 -0.4325772 ]\n",
      " [ 1.3874176  -0.07707664]\n",
      " [ 1.4257554  -0.21140316]\n",
      " [ 1.0510257  -0.23929085]\n",
      " [ 0.8643021   0.20747363]\n",
      " [ 1.0557558  -0.0440909 ]\n",
      " [ 0.98515345 -0.45922628]\n",
      " [ 1.2154257   0.1351072 ]\n",
      " [ 1.2889587   0.22091317]\n",
      " [ 1.3419986  -0.12473362]\n",
      " [ 0.66064156  0.28451805]\n",
      " [ 1.2035246   0.80300324]\n",
      " [ 0.87489386  0.41143334]\n",
      " [ 1.3307248  -0.22338402]\n",
      " [ 0.9996517  -0.27229713]\n",
      " [ 0.80970832 -0.18176388]\n",
      " [ 1.1561395   0.31659399]\n",
      " [ 0.96945682 -0.01844687]\n",
      " [ 1.1501202   0.11455769]\n",
      " [ 0.89451168  0.39948466]\n",
      " [ 0.74866926  0.0062513 ]\n",
      " [ 1.4240451  -0.05110891]\n",
      " [ 0.95394331  0.35143469]\n",
      " [ 0.85480809 -0.14734469]\n",
      " [ 0.93359112 -0.09137605]\n",
      " [ 0.93737253  0.09293617]\n",
      " [ 0.77042668 -0.077022  ]\n",
      " [ 1.0234778  -0.29261726]\n",
      " [ 1.3611381   0.20925376]\n",
      " [ 0.65553227 -0.40112295]\n",
      " [ 0.91105658 -0.48095323]\n",
      " [ 1.1521568  -0.23549257]\n",
      " [ 0.86928331  0.04834487]\n",
      " [ 1.1996496   0.53552165]\n",
      " [ 0.85463939  0.09036359]\n",
      " [ 1.0673105  -0.02242984]\n",
      " [ 1.3079029   0.6144213 ]\n",
      " [ 1.1532697   0.24437677]\n",
      " [ 0.51063739  0.05580233]\n",
      " [ 1.1043312   0.10781936]\n",
      " [ 1.228589   -0.04143211]\n",
      " [ 0.63112986  0.06989601]\n",
      " [ 0.91630523 -0.22843712]\n",
      " [ 0.93854954  0.03885598]\n",
      " [ 1.1032298  -0.14304489]\n",
      " [ 1.0082623   0.08207604]\n",
      " [ 1.3657724  -0.0951204 ]\n",
      " [ 0.16112417  0.93146135]\n",
      " [ 0.01274431  0.71172188]\n",
      " [-0.10664676  1.3752386 ]\n",
      " [-0.08981434  0.62681146]\n",
      " [-0.4441976   0.68385513]\n",
      " [-0.20725695  0.70481888]\n",
      " [ 0.02352401  1.0151033 ]\n",
      " [ 0.13890694  0.87296951]\n",
      " [-0.31440981  1.0613184 ]\n",
      " [-0.13083182  1.3129298 ]\n",
      " [ 0.13539111  1.1399145 ]\n",
      " [-0.09846609  1.3231128 ]\n",
      " [-0.44501379  0.8283991 ]\n",
      " [ 0.59267664  0.35780148]\n",
      " [ 0.25489893  0.66979484]\n",
      " [-0.20199882  1.0335235 ]\n",
      " [-0.42885576  1.0911313 ]\n",
      " [ 0.10322712  0.59400205]\n",
      " [-0.19723433  1.340396  ]\n",
      " [-0.11353115  0.67319187]\n",
      " [ 0.40688787  0.98696848]\n",
      " [-0.04679605  0.66406917]\n",
      " [ 0.32124189  1.3173497 ]\n",
      " [ 0.00512439  0.9182194 ]\n",
      " [ 0.28407226  1.0560155 ]\n",
      " [ 0.09486847  0.93456735]\n",
      " [-0.09592684  1.024736  ]\n",
      " [ 0.40200412  1.2523789 ]\n",
      " [ 0.2462003   1.0425304 ]\n",
      " [ 0.20865607  1.5049251 ]\n",
      " [-0.28119147  1.2229519 ]\n",
      " [ 0.11669107  1.2967161 ]\n",
      " [ 0.12690337  0.91158256]\n",
      " [ 0.22537798  1.1935403 ]\n",
      " [-0.09916004  1.1949584 ]\n",
      " [-0.16107908  0.84973897]\n",
      " [ 0.26860421  0.94216399]\n",
      " [ 0.30917642  0.96035139]\n",
      " [ 0.00199819  1.1045532 ]\n",
      " [-0.17998092  0.60799009]\n",
      " [ 0.40607064  1.1784296 ]\n",
      " [ 0.22849174  1.3944892 ]\n",
      " [-0.27332032  1.3102919 ]\n",
      " [-0.40823356  1.1200681 ]\n",
      " [-0.20742396  1.3783053 ]\n",
      " [-0.16515944  1.048997  ]\n",
      " [-0.44035092  1.612193  ]\n",
      " [ 0.30303782  1.002318  ]\n",
      " [ 0.01125276  0.54663902]\n",
      " [-0.40678274  1.0435023 ]]\n"
     ]
    }
   ],
   "source": [
    "#to see the (x,y) data points\n",
    "print(samples)"
   ]
  },
  {
   "cell_type": "code",
   "execution_count": 28,
   "metadata": {},
   "outputs": [
    {
     "name": "stdout",
     "output_type": "stream",
     "text": [
      "[[0.29591088 0.00455223]\n",
      " [0.00455223 0.29629137]]\n",
      "[0.29154493 0.30065732]\n",
      "[[-0.72171865 -0.69218653]\n",
      " [ 0.69218653 -0.72171865]]\n",
      "Trained w: [1. 1.]\n",
      "Trained w: [1. 1.]\n",
      "Trained w: [1. 1.]\n",
      "Trained w: [1. 1.]\n",
      "Trained w: [1. 1.]\n",
      "Trained w: [1. 1.]\n",
      "Trained w: [1. 1.]\n",
      "Trained w: [1. 1.]\n",
      "Trained w: [1. 1.]\n",
      "[1. 1.]\n",
      "[-0.40678274  1.0435023 ]\n"
     ]
    },
    {
     "data": {
      "image/png": "[encoded data removed]",
      "text/plain": [
       "<Figure size 432x288 with 2 Axes>"
      ]
     },
     "metadata": {
      "needs_background": "light"
     },
     "output_type": "display_data"
    }
   ],
   "source": [
    "#computing the mean of the data; (axis=0, for column-wise averaging of the data)\n",
    "    averaged = np.average(samples, axis=0)\n",
    "# print(averaged)\n",
    "    # samples = samples - averaged        ##subtracting mean from each sample point\n",
    "# print(samples); to view the data being cenetered around zero after zero-centering step\n",
    "    ##given data\n",
    "    n=1.0\n",
    "    alpha=1.0\n",
    "    dt=0.01\n",
    "    N=100000\n",
    "    data_points = itertools.cycle(samples)  # sampleps = centered data\n",
    "\n",
    "#initiating 'w0' to a random point inside a square centered on [0,0];\n",
    "    np.random.seed(6)                   #ensure same solution instead of random\n",
    "    w0 = np.matrix(np.random.rand(1 , 2)) # (1,2) are the dimensions of the returned array\n",
    "\n",
    "#finding the eigenvectors, and eigenvalues of the correlation matrix of the mean-centered data:\n",
    "    correlation_samples = np.divide(np.dot(np.transpose(samples), samples), np.size(samples)) #N - number of samples\n",
    "    correlation_samples_eigenvalues, correlation_samples_eigenvectors = np.linalg.eig(correlation_samples) \n",
    "    print(correlation_samples)\n",
    "    print(correlation_samples_eigenvalues)\n",
    "    print(correlation_samples_eigenvectors)\n",
    "#storing changes in the weight over time\n",
    "    x_changes = []\n",
    "    y_changes = []\n",
    "\n",
    "    for i in range(N):\n",
    "        u = np.asarray(next(data_points))\n",
    "        v = u * w0.T\n",
    "        \n",
    "        #Oja's learning rule \n",
    "        w_new = w0 + (dt*n*(v*u - alpha*(v**2)*w0))\n",
    "        # w_new = w0 + (dt*n*v*u) #(Hebb's learning rule)\n",
    "        w_new = np.squeeze(np.asarray(w_new))\n",
    "        \n",
    "        #Recording the changes of weight with time\n",
    "        x_changes.append(w_new[0])\n",
    "        y_changes.append(w_new[1])\n",
    "        #assigning the new weight to the old weight\n",
    "        w0 = w_new.T\n",
    "        # print(x_changes, y_changes)    \n",
    "        if i > N-10:\n",
    "            print('Trained w: %s' % (w0))\n",
    "    print(w_new)\n",
    "    print(v)\n",
    "    # Print the last 1000 weight vectors\n",
    "    nP = 1000\n",
    "    fig, axs = plt.subplots(2, 1)\n",
    "    fig.suptitle('Last weight vector values')\n",
    "    axs[0].plot(range(nP), x_changes[-nP:])\n",
    "    axs[0].set_title('x_changes')\n",
    "    \n",
    "    axs[1].plot(range(nP), y_changes[-nP:])\n",
    "    axs[1].set_title('y_changes')\n",
    "    plt.show()\n",
    "    # # fig.savefig('%s_learning.png' % output_prefix, dpi=200)\n",
    "    # plt.close(fig)"
   ]
  },
  {
   "cell_type": "code",
   "execution_count": null,
   "metadata": {},
   "outputs": [],
   "source": []
  }
 ],
 "metadata": {
  "kernelspec": {
   "display_name": "Python 3",
   "language": "python",
   "name": "python3"
  },
  "language_info": {
   "codemirror_mode": {
    "name": "ipython",
    "version": 3
   },
   "file_extension": ".py",
   "mimetype": "text/x-python",
   "name": "python",
   "nbconvert_exporter": "python",
   "pygments_lexer": "ipython3",
   "version": "3.6.7"
  }
 },
 "nbformat": 4,
 "nbformat_minor": 2
}
